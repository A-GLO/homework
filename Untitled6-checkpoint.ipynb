{
 "cells": [
  {
   "cell_type": "code",
   "execution_count": 1,
   "metadata": {},
   "outputs": [
    {
     "name": "stdout",
     "output_type": "stream",
     "text": [
      "输入第一边的边长3\n",
      "输入第二条边的边长5\n",
      "输入第三条边的边长4\n",
      "三角形面积为 6.000000\n"
     ]
    }
   ],
   "source": [
    "a = float(input('输入第一边的边长'))\n",
    "b = float(input('输入第二条边的边长'))\n",
    "c = float(input('输入第三条边的边长'))\n",
    "s = (a+b+c)/2\n",
    "area = (s*(s-a)*(s-b)*(s-c))**0.5\n",
    "print('三角形面积为 %f' %area)"
   ]
  },
  {
   "cell_type": "code",
   "execution_count": 7,
   "metadata": {},
   "outputs": [
    {
     "name": "stdout",
     "output_type": "stream",
     "text": [
      "1*1=1\t\n",
      "1*2=2\t\n",
      "2*2=4\t\n",
      "1*3=3\t\n",
      "2*3=6\t\n",
      "3*3=9\t\n",
      "1*4=4\t\n",
      "2*4=8\t\n",
      "3*4=12\t\n",
      "4*4=16\t\n",
      "1*5=5\t\n",
      "2*5=10\t\n",
      "3*5=15\t\n",
      "4*5=20\t\n",
      "5*5=25\t\n",
      "1*6=6\t\n",
      "2*6=12\t\n",
      "3*6=18\t\n",
      "4*6=24\t\n",
      "5*6=30\t\n",
      "6*6=36\t\n",
      "1*7=7\t\n",
      "2*7=14\t\n",
      "3*7=21\t\n",
      "4*7=28\t\n",
      "5*7=35\t\n",
      "6*7=42\t\n",
      "7*7=49\t\n",
      "1*8=8\t\n",
      "2*8=16\t\n",
      "3*8=24\t\n",
      "4*8=32\t\n",
      "5*8=40\t\n",
      "6*8=48\t\n",
      "7*8=56\t\n",
      "8*8=64\t\n",
      "1*9=9\t\n",
      "2*9=18\t\n",
      "3*9=27\t\n",
      "4*9=36\t\n",
      "5*9=45\t\n",
      "6*9=54\t\n",
      "7*9=63\t\n",
      "8*9=72\t\n",
      "9*9=81\t\n"
     ]
    }
   ],
   "source": [
    "for i in range (1,10):\n",
    "    for j in range (1,i+1):\n",
    "        print('{}*{}={}\\t'.format(j,i,i*j), end='')\n",
    "        print()\n"
   ]
  },
  {
   "cell_type": "code",
   "execution_count": null,
   "metadata": {},
   "outputs": [],
   "source": []
  }
 ],
 "metadata": {
  "kernelspec": {
   "display_name": "Python 3",
   "language": "python",
   "name": "python3"
  },
  "language_info": {
   "codemirror_mode": {
    "name": "ipython",
    "version": 3
   },
   "file_extension": ".py",
   "mimetype": "text/x-python",
   "name": "python",
   "nbconvert_exporter": "python",
   "pygments_lexer": "ipython3",
   "version": "3.7.0"
  }
 },
 "nbformat": 4,
 "nbformat_minor": 2
}
