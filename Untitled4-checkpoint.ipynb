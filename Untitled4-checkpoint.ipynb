{
 "cells": [
  {
   "cell_type": "code",
   "execution_count": 1,
   "metadata": {},
   "outputs": [
    {
     "name": "stdout",
     "output_type": "stream",
     "text": [
      "输入行数5\n",
      "1 \n",
      "1 1 \n",
      "1 2 1 \n",
      "1 3 3 1 \n",
      "1 4 6 4 1 \n"
     ]
    }
   ],
   "source": [
    "r = int(input(\"输入行数\"))\n",
    "x=[0]*r\n",
    "for i in range(0,r):\n",
    "    for j in range(0,i+1):\n",
    "        if j==0:\n",
    "            x[0]=x[i]=1\n",
    "        elif j>0 and j<i:\n",
    "            x[i-j]=x[i-j]+x[i-j-1]\n",
    "    k=0\n",
    "    x.append(0)\n",
    "    while x[k]!=0 and k<r:\n",
    "        print(x[k],end=' ')\n",
    "        k=k+1\n",
    "    print('')"
   ]
  },
  {
   "cell_type": "code",
   "execution_count": null,
   "metadata": {},
   "outputs": [],
   "source": []
  }
 ],
 "metadata": {
  "kernelspec": {
   "display_name": "Python 3",
   "language": "python",
   "name": "python3"
  },
  "language_info": {
   "codemirror_mode": {
    "name": "ipython",
    "version": 3
   },
   "file_extension": ".py",
   "mimetype": "text/x-python",
   "name": "python",
   "nbconvert_exporter": "python",
   "pygments_lexer": "ipython3",
   "version": "3.7.0"
  }
 },
 "nbformat": 4,
 "nbformat_minor": 2
}
